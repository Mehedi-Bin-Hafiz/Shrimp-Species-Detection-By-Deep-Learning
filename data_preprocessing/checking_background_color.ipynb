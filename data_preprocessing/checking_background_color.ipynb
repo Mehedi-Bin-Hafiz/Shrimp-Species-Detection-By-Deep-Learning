{
 "cells": [
  {
   "cell_type": "code",
   "execution_count": 167,
   "id": "463ce5d8",
   "metadata": {},
   "outputs": [],
   "source": [
    "import cv2"
   ]
  },
  {
   "cell_type": "code",
   "execution_count": 168,
   "id": "90d97fdb",
   "metadata": {},
   "outputs": [],
   "source": [
    "img = cv2.imread('likeWhite.jpeg')\n",
    "# img = cv2.imread('black.jpeg')"
   ]
  },
  {
   "cell_type": "code",
   "execution_count": 169,
   "id": "ee0338f9",
   "metadata": {},
   "outputs": [],
   "source": [
    "def find_black_background(img, threshold=0.25):\n",
    "    \"\"\"remove images with transparent or white background\"\"\"\n",
    "    background = np.array([180, 180, 180])\n",
    "    percent = (img >= background).sum() / img.size #img size cause we count percent\n",
    "    if percent >= threshold:\n",
    "        return True\n",
    "    else:\n",
    "        return False"
   ]
  },
  {
   "cell_type": "code",
   "execution_count": 170,
   "id": "96a9ba34",
   "metadata": {},
   "outputs": [
    {
     "data": {
      "text/plain": [
       "True"
      ]
     },
     "execution_count": 170,
     "metadata": {},
     "output_type": "execute_result"
    }
   ],
   "source": [
    "find_black_background(img)"
   ]
  }
 ],
 "metadata": {
  "kernelspec": {
   "display_name": "venvAI",
   "language": "python",
   "name": "venvai"
  },
  "language_info": {
   "codemirror_mode": {
    "name": "ipython",
    "version": 3
   },
   "file_extension": ".py",
   "mimetype": "text/x-python",
   "name": "python",
   "nbconvert_exporter": "python",
   "pygments_lexer": "ipython3",
   "version": "3.6.8"
  }
 },
 "nbformat": 4,
 "nbformat_minor": 5
}
