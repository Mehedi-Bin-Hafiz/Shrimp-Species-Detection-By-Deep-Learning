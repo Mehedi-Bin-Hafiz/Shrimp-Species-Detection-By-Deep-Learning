{
 "cells": [
  {
   "cell_type": "code",
   "execution_count": 1,
   "id": "58af2295",
   "metadata": {},
   "outputs": [
    {
     "data": {
      "text/plain": [
       "<Figure size 1200x800 with 0 Axes>"
      ]
     },
     "execution_count": 1,
     "metadata": {},
     "output_type": "execute_result"
    },
    {
     "data": {
      "text/plain": [
       "<Figure size 1200x800 with 0 Axes>"
      ]
     },
     "metadata": {},
     "output_type": "display_data"
    }
   ],
   "source": [
    "import pandas as pd\n",
    "import joblib\n",
    "import numpy as np\n",
    "import matplotlib.pyplot as plt\n",
    "from sklearn.metrics import confusion_matrix\n",
    "import seaborn as sns\n",
    "from matplotlib.pyplot import figure\n",
    "plt.rcParams.update({'font.size': 12})\n",
    "plt.rcParams[\"font.family\"] = \"Times New Roman\"\n",
    "figure(figsize=(6, 4), dpi=200)"
   ]
  },
  {
   "cell_type": "code",
   "execution_count": 2,
   "id": "800d4bdb",
   "metadata": {},
   "outputs": [],
   "source": [
    "predf = pd.read_excel('model_3_realVs_pred.xlsx', engine='openpyxl')"
   ]
  },
  {
   "cell_type": "code",
   "execution_count": 3,
   "id": "535bb481",
   "metadata": {},
   "outputs": [
    {
     "name": "stdout",
     "output_type": "stream",
     "text": [
      "              precision    recall  f1-score   support\n",
      "\n",
      "       Bagda       0.97      1.00      0.98       569\n",
      "       Deshi       1.00      0.96      0.98       874\n",
      "       Golda       0.98      0.98      0.98      1067\n",
      "      Horina       0.97      0.99      0.98       612\n",
      "\n",
      "    accuracy                           0.98      3122\n",
      "   macro avg       0.98      0.98      0.98      3122\n",
      "weighted avg       0.98      0.98      0.98      3122\n",
      "\n"
     ]
    }
   ],
   "source": [
    "from sklearn.metrics import classification_report\n",
    "target_names = [\"Bagda\",\"Deshi\",\"Golda\",'Horina']\n",
    "print(classification_report(predf.real.values.tolist(), predf.prediction.values.tolist(), target_names=target_names))"
   ]
  },
  {
   "cell_type": "code",
   "execution_count": 4,
   "id": "67a320a9",
   "metadata": {},
   "outputs": [
    {
     "data": {
      "image/png": "[encoded data removed]",
      "text/plain": [
       "<Figure size 432x288 with 1 Axes>"
      ]
     },
     "metadata": {
      "needs_background": "light"
     },
     "output_type": "display_data"
    }
   ],
   "source": [
    "predicted0 = predf.loc[(predf['real'] == 0) & (predf['prediction'] == 0) ] #(), & are  very very important\n",
    "predicted1 = predf.loc[(predf['real'] == 1) & (predf['prediction'] == 1) ]\n",
    "predicted2 = predf.loc[(predf['real'] == 2) & (predf['prediction'] == 2) ]\n",
    "predicted3 = predf.loc[(predf['real'] == 3) & (predf['prediction'] == 3) ]\n",
    "\n",
    "\n",
    "predicted0Len = len(predicted0)\n",
    "predicted1Len = len(predicted1)\n",
    "predicted2Len = len(predicted2)\n",
    "predicted3Len = len(predicted3)\n",
    "\n",
    "original0Len = len(predf.loc[(predf['real'] == 0)])\n",
    "original1Len = len(predf.loc[(predf['real'] == 1)])\n",
    "original2Len = len(predf.loc[(predf['real'] == 2)])\n",
    "original3Len = len(predf.loc[(predf['real'] == 3)])\n",
    "\n",
    "real = [original0Len, original1Len, original2Len, original3Len]\n",
    "predicted = [predicted0Len, predicted1Len, predicted2Len, predicted3Len]\n",
    "# Create the pandas DataFrame\n",
    "index = [\"Bagda\",\"Deshi\",\"Golda\",'Horina']\n",
    "df = pd.DataFrame({'Real': real,\n",
    "                   'Predicted': predicted,\n",
    "                   }, index=index)\n",
    "\n",
    "df.plot.bar(rot=0,width=.3)\n",
    "plt.ylabel('Numbers')\n",
    "plt.yticks([x for x in range(0, 1800) if x % 200 == 0])\n",
    "plt.grid()\n",
    "plt.xlabel('Categories')\n",
    "plt.savefig('realVsPredicted_model_3.jpeg', dpi=200)\n",
    "plt.show()\n"
   ]
  },
  {
   "cell_type": "code",
   "execution_count": null,
   "id": "ec2deae7",
   "metadata": {},
   "outputs": [],
   "source": []
  },
  {
   "cell_type": "code",
   "execution_count": null,
   "id": "3b930a4d",
   "metadata": {},
   "outputs": [],
   "source": []
  },
  {
   "cell_type": "code",
   "execution_count": null,
   "id": "346e67a0",
   "metadata": {},
   "outputs": [],
   "source": []
  },
  {
   "cell_type": "code",
   "execution_count": null,
   "id": "52e275cf",
   "metadata": {},
   "outputs": [],
   "source": []
  },
  {
   "cell_type": "code",
   "execution_count": null,
   "id": "5a80fba5",
   "metadata": {},
   "outputs": [],
   "source": []
  },
  {
   "cell_type": "code",
   "execution_count": null,
   "id": "3b9c72ed",
   "metadata": {},
   "outputs": [],
   "source": []
  },
  {
   "cell_type": "code",
   "execution_count": null,
   "id": "7871e1cb",
   "metadata": {},
   "outputs": [],
   "source": []
  },
  {
   "cell_type": "code",
   "execution_count": null,
   "id": "a99b8676",
   "metadata": {},
   "outputs": [],
   "source": []
  },
  {
   "cell_type": "code",
   "execution_count": null,
   "id": "2ef1d92c",
   "metadata": {},
   "outputs": [],
   "source": []
  },
  {
   "cell_type": "code",
   "execution_count": null,
   "id": "9dd1222e",
   "metadata": {},
   "outputs": [],
   "source": []
  },
  {
   "cell_type": "code",
   "execution_count": null,
   "id": "886e9e44",
   "metadata": {},
   "outputs": [],
   "source": []
  }
 ],
 "metadata": {
  "kernelspec": {
   "display_name": "venvAI",
   "language": "python",
   "name": "venvai"
  },
  "language_info": {
   "codemirror_mode": {
    "name": "ipython",
    "version": 3
   },
   "file_extension": ".py",
   "mimetype": "text/x-python",
   "name": "python",
   "nbconvert_exporter": "python",
   "pygments_lexer": "ipython3",
   "version": "3.6.8"
  }
 },
 "nbformat": 4,
 "nbformat_minor": 5
}
